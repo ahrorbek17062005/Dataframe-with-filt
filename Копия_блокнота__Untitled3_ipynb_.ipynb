{
  "nbformat": 4,
  "nbformat_minor": 0,
  "metadata": {
    "colab": {
      "provenance": []
    },
    "kernelspec": {
      "name": "python3",
      "display_name": "Python 3"
    },
    "language_info": {
      "name": "python"
    }
  },
  "cells": [
    {
      "cell_type": "code",
      "execution_count": 2,
      "metadata": {
        "colab": {
          "base_uri": "https://localhost:8080/"
        },
        "id": "QSXMHhU6-aUB",
        "outputId": "241a8b4b-3e4e-44a1-974d-958f9244e6dc"
      },
      "outputs": [
        {
          "output_type": "stream",
          "name": "stdout",
          "text": [
            "                      FISH yoshi            MANZILI  jinsi Isha joyi  \\\n",
            "0         Akramov Ahrorbek    19  Farg'ona Viloyati  Erkak      yo'q   \n",
            "1  Nematullayev Raxmonbjon    18   Andijon viloyati  Erkak      yo'q   \n",
            "2       Yusupov Dilyorbek     25  Farg'ona Viloyati  Erkak      yo'q   \n",
            "\n",
            "  O'qish joyi  \n",
            "0      TATUFF  \n",
            "1       FARDU  \n",
            "2         yoq  \n"
          ]
        }
      ],
      "source": [
        "import pandas as pd\n",
        "baza={\n",
        "    \"FISH\":[\"Akramov Ahrorbek\",\"Nematullayev Raxmonbjon\",\"Yusupov Dilyorbek \"],\n",
        "    \"yoshi\":[\"19\",\"18\",\"25\"],\n",
        "    \"MANZILI\":[\"Farg'ona Viloyati\",\"Andijon viloyati\",\"Farg'ona Viloyati\" ],\n",
        "    \"jinsi\":[\"Erkak\",\"Erkak\",\"Erkak\"],\n",
        "    \"Isha joyi\":[\"yo'q\",\"yo'q\",\"yo'q\"],\n",
        "    \"O'qish joyi\":[\"TATUFF\",\"FARDU\",\"yoq\"],\n",
        "\n",
        " }\n",
        "db=pd.DataFrame(baza)\n",
        "print(db)"
      ]
    },
    {
      "cell_type": "code",
      "source": [
        "filtr=db[db[\"O'qish joyi\"]=='FARDU']\n",
        "print(filtr)"
      ],
      "metadata": {
        "id": "7_gMn0rDH_uj",
        "colab": {
          "base_uri": "https://localhost:8080/"
        },
        "outputId": "f5d5677e-2bce-4b7c-fb75-0c92f6247372"
      },
      "execution_count": 3,
      "outputs": [
        {
          "output_type": "stream",
          "name": "stdout",
          "text": [
            "                      FISH yoshi           MANZILI  jinsi Isha joyi  \\\n",
            "1  Nematullayev Raxmonbjon    18  Andijon viloyati  Erkak      yo'q   \n",
            "\n",
            "  O'qish joyi  \n",
            "1       FARDU  \n"
          ]
        }
      ]
    },
    {
      "cell_type": "code",
      "source": [
        "filtr=db[db['yoshi']=='18']\n",
        "print(filtr)"
      ],
      "metadata": {
        "colab": {
          "base_uri": "https://localhost:8080/"
        },
        "id": "rauuAQFkGjHr",
        "outputId": "3f100abb-a3fc-4e46-ffc3-96cec9ffe5a8"
      },
      "execution_count": null,
      "outputs": [
        {
          "output_type": "stream",
          "name": "stdout",
          "text": [
            "                      FISH yoshi           MANZILI  jinsi Isha joyi  \\\n",
            "1  Nematullayev Raxmonbjon    18  Andijon viloyati  Erkak      yo'q   \n",
            "\n",
            "  O'qish joyi  \n",
            "1       FARDU  \n"
          ]
        }
      ]
    }
  ]
}